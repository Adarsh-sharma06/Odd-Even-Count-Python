{
 "cells": [
  {
   "cell_type": "code",
   "execution_count": 1,
   "id": "e1e329cd",
   "metadata": {},
   "outputs": [
    {
     "name": "stdout",
     "output_type": "stream",
     "text": [
      "Number of odd numbers: 5\n",
      "Number of even numbers: 6\n"
     ]
    }
   ],
   "source": [
    "# Write a Python to count number of odd and even number from the series of the list:\n",
    "# [ 2,3,4,55,56,78,75,69,66,101,100 ]\n",
    "\n",
    "def count_odd_even_numbers(numbers):\n",
    "    odd_count = 0\n",
    "    even_count = 0\n",
    "\n",
    "    for num in numbers:\n",
    "        if num % 2 == 0:\n",
    "            even_count += 1\n",
    "        else:\n",
    "            odd_count += 1\n",
    "\n",
    "    return odd_count, even_count\n",
    "\n",
    "\n",
    "# Test the program\n",
    "numbers = [2, 3, 4, 55, 56, 78, 75, 69, 66, 101, 100]\n",
    "\n",
    "odd_count, even_count = count_odd_even_numbers(numbers)\n",
    "\n",
    "print(\"Number of odd numbers:\", odd_count)\n",
    "print(\"Number of even numbers:\", even_count)\n"
   ]
  }
 ],
 "metadata": {
  "kernelspec": {
   "display_name": "Python 3 (ipykernel)",
   "language": "python",
   "name": "python3"
  },
  "language_info": {
   "codemirror_mode": {
    "name": "ipython",
    "version": 3
   },
   "file_extension": ".py",
   "mimetype": "text/x-python",
   "name": "python",
   "nbconvert_exporter": "python",
   "pygments_lexer": "ipython3",
   "version": "3.9.13"
  }
 },
 "nbformat": 4,
 "nbformat_minor": 5
}
